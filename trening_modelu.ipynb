{
  "nbformat": 4,
  "nbformat_minor": 0,
  "metadata": {
    "colab": {
      "provenance": [],
      "authorship_tag": "ABX9TyPmPXrhsz8Ufe85je9jljhX",
      "include_colab_link": true
    },
    "kernelspec": {
      "name": "python3",
      "display_name": "Python 3"
    },
    "language_info": {
      "name": "python"
    }
  },
  "cells": [
    {
      "cell_type": "markdown",
      "metadata": {
        "id": "view-in-github",
        "colab_type": "text"
      },
      "source": [
        "<a href=\"https://colab.research.google.com/github/courpiaque/cordef/blob/main/trening_modelu.ipynb\" target=\"_parent\"><img src=\"https://colab.research.google.com/assets/colab-badge.svg\" alt=\"Open In Colab\"/></a>"
      ]
    },
    {
      "cell_type": "code",
      "execution_count": 2,
      "metadata": {
        "colab": {
          "base_uri": "https://localhost:8080/"
        },
        "id": "VRSQnq526nMJ",
        "outputId": "cd7c36c7-29f4-4e98-9193-8a3bb8e24243"
      },
      "outputs": [
        {
          "output_type": "stream",
          "name": "stdout",
          "text": [
            "\u001b[?25l   \u001b[90m━━━━━━━━━━━━━━━━━━━━━━━━━━━━━━━━━━━━━━━━\u001b[0m \u001b[32m0.0/318.8 kB\u001b[0m \u001b[31m?\u001b[0m eta \u001b[36m-:--:--\u001b[0m\r\u001b[2K   \u001b[91m━━━━━━━━━━━━━━━━━━━━━━━━━━━━━━━━━━━━━━━\u001b[0m\u001b[91m╸\u001b[0m \u001b[32m317.4/318.8 kB\u001b[0m \u001b[31m15.4 MB/s\u001b[0m eta \u001b[36m0:00:01\u001b[0m\r\u001b[2K   \u001b[90m━━━━━━━━━━━━━━━━━━━━━━━━━━━━━━━━━━━━━━━━\u001b[0m \u001b[32m318.8/318.8 kB\u001b[0m \u001b[31m8.8 MB/s\u001b[0m eta \u001b[36m0:00:00\u001b[0m\n",
            "\u001b[2K   \u001b[90m━━━━━━━━━━━━━━━━━━━━━━━━━━━━━━━━━━━━━━━━\u001b[0m \u001b[32m56.3/56.3 kB\u001b[0m \u001b[31m2.8 MB/s\u001b[0m eta \u001b[36m0:00:00\u001b[0m\n",
            "\u001b[2K   \u001b[90m━━━━━━━━━━━━━━━━━━━━━━━━━━━━━━━━━━━━━━━━\u001b[0m \u001b[32m76.4/76.4 kB\u001b[0m \u001b[31m4.5 MB/s\u001b[0m eta \u001b[36m0:00:00\u001b[0m\n",
            "\u001b[2K   \u001b[90m━━━━━━━━━━━━━━━━━━━━━━━━━━━━━━━━━━━━━━━━\u001b[0m \u001b[32m77.9/77.9 kB\u001b[0m \u001b[31m4.0 MB/s\u001b[0m eta \u001b[36m0:00:00\u001b[0m\n",
            "\u001b[2K   \u001b[90m━━━━━━━━━━━━━━━━━━━━━━━━━━━━━━━━━━━━━━━━\u001b[0m \u001b[32m114.5/114.5 kB\u001b[0m \u001b[31m6.5 MB/s\u001b[0m eta \u001b[36m0:00:00\u001b[0m\n",
            "\u001b[2K   \u001b[90m━━━━━━━━━━━━━━━━━━━━━━━━━━━━━━━━━━━━━━━━\u001b[0m \u001b[32m1.5/1.5 MB\u001b[0m \u001b[31m26.7 MB/s\u001b[0m eta \u001b[36m0:00:00\u001b[0m\n",
            "\u001b[2K   \u001b[90m━━━━━━━━━━━━━━━━━━━━━━━━━━━━━━━━━━━━━━━━\u001b[0m \u001b[32m4.5/4.5 MB\u001b[0m \u001b[31m48.2 MB/s\u001b[0m eta \u001b[36m0:00:00\u001b[0m\n",
            "\u001b[2K   \u001b[90m━━━━━━━━━━━━━━━━━━━━━━━━━━━━━━━━━━━━━━━━\u001b[0m \u001b[32m53.6/53.6 kB\u001b[0m \u001b[31m3.0 MB/s\u001b[0m eta \u001b[36m0:00:00\u001b[0m\n",
            "\u001b[2K   \u001b[90m━━━━━━━━━━━━━━━━━━━━━━━━━━━━━━━━━━━━━━━━\u001b[0m \u001b[32m117.7/117.7 kB\u001b[0m \u001b[31m6.8 MB/s\u001b[0m eta \u001b[36m0:00:00\u001b[0m\n",
            "\u001b[2K   \u001b[90m━━━━━━━━━━━━━━━━━━━━━━━━━━━━━━━━━━━━━━━━\u001b[0m \u001b[32m58.3/58.3 kB\u001b[0m \u001b[31m3.1 MB/s\u001b[0m eta \u001b[36m0:00:00\u001b[0m\n",
            "\u001b[2K   \u001b[90m━━━━━━━━━━━━━━━━━━━━━━━━━━━━━━━━━━━━━━━━\u001b[0m \u001b[32m897.5/897.5 kB\u001b[0m \u001b[31m2.5 MB/s\u001b[0m eta \u001b[36m0:00:00\u001b[0m\n",
            "\u001b[2K     \u001b[90m━━━━━━━━━━━━━━━━━━━━━━━━━━━━━━━━━━━━━━━━\u001b[0m \u001b[32m126.8/126.8 kB\u001b[0m \u001b[31m2.3 MB/s\u001b[0m eta \u001b[36m0:00:00\u001b[0m\n",
            "\u001b[2K   \u001b[90m━━━━━━━━━━━━━━━━━━━━━━━━━━━━━━━━━━━━━━━━\u001b[0m \u001b[32m197.8/197.8 kB\u001b[0m \u001b[31m7.1 MB/s\u001b[0m eta \u001b[36m0:00:00\u001b[0m\n",
            "\u001b[2K   \u001b[90m━━━━━━━━━━━━━━━━━━━━━━━━━━━━━━━━━━━━━━━━\u001b[0m \u001b[32m314.0/314.0 kB\u001b[0m \u001b[31m12.5 MB/s\u001b[0m eta \u001b[36m0:00:00\u001b[0m\n",
            "\u001b[2K   \u001b[90m━━━━━━━━━━━━━━━━━━━━━━━━━━━━━━━━━━━━━━━━\u001b[0m \u001b[32m8.2/8.2 MB\u001b[0m \u001b[31m74.9 MB/s\u001b[0m eta \u001b[36m0:00:00\u001b[0m\n",
            "\u001b[2K   \u001b[90m━━━━━━━━━━━━━━━━━━━━━━━━━━━━━━━━━━━━━━━━\u001b[0m \u001b[32m3.6/3.6 MB\u001b[0m \u001b[31m68.1 MB/s\u001b[0m eta \u001b[36m0:00:00\u001b[0m\n",
            "\u001b[?25h"
          ]
        }
      ],
      "source": [
        "!pip install label-studio-sdk --quiet\n",
        "!pip install -U sacremoses --quiet\n",
        "!pip install -U spacy-transformers --quiet"
      ]
    },
    {
      "cell_type": "code",
      "source": [
        "from label_studio_sdk import Client\n",
        "import pandas as pd\n",
        "import spacy\n",
        "from spacy.tokens import DocBin\n",
        "from tqdm.notebook import tqdm\n",
        "from spacy import util"
      ],
      "metadata": {
        "id": "bzqR3MiJM9kP"
      },
      "execution_count": 3,
      "outputs": []
    },
    {
      "cell_type": "code",
      "source": [
        "LABEL_STUDIO_URL = 'https://app.heartex.com/'\n",
        "API_KEY = 'ac32252c97f25574d668e1169b39c4d352abaaf8'"
      ],
      "metadata": {
        "id": "4rMDm_aZNTCb"
      },
      "execution_count": 4,
      "outputs": []
    },
    {
      "cell_type": "code",
      "source": [
        "ls = Client(url=LABEL_STUDIO_URL, api_key=API_KEY)\n",
        "ls.check_connection()"
      ],
      "metadata": {
        "colab": {
          "base_uri": "https://localhost:8080/"
        },
        "id": "70FlhVmhPagP",
        "outputId": "f05dd5e7-5fa1-4702-cd85-43fcf52aa879"
      },
      "execution_count": 5,
      "outputs": [
        {
          "output_type": "execute_result",
          "data": {
            "text/plain": [
              "{'status': 'UP'}"
            ]
          },
          "metadata": {},
          "execution_count": 5
        }
      ]
    },
    {
      "cell_type": "code",
      "source": [
        "projects = ls.get_projects()\n",
        "for project in projects:\n",
        "  print(f\"{project.id} {project.title}\")"
      ],
      "metadata": {
        "id": "-ZLVhJGxh0mW",
        "colab": {
          "base_uri": "https://localhost:8080/"
        },
        "outputId": "fd930bab-3718-4796-d40f-c303e23f21fd"
      },
      "execution_count": 6,
      "outputs": [
        {
          "output_type": "stream",
          "name": "stdout",
          "text": [
            "84465 Podręczniki – Definicje bez Komunikacji społecznej\n",
            "84464 Podręczniki – Komunikacja społeczna\n",
            "84330 Teksty naukowe\n",
            "84329 Filozofuj\n",
            "84322 Wikipedia\n",
            "70099 Korpus\n"
          ]
        }
      ]
    },
    {
      "cell_type": "code",
      "source": [
        "project = ls.get_project(70099)"
      ],
      "metadata": {
        "id": "QjLEu2dnOVwD"
      },
      "execution_count": 7,
      "outputs": []
    },
    {
      "cell_type": "code",
      "source": [
        "data = project.get_labeled_tasks()"
      ],
      "metadata": {
        "id": "oBeoTooTPLtP"
      },
      "execution_count": 8,
      "outputs": []
    },
    {
      "cell_type": "code",
      "source": [
        "len(data)"
      ],
      "metadata": {
        "colab": {
          "base_uri": "https://localhost:8080/"
        },
        "id": "IacD0ImdPRDz",
        "outputId": "ee38794c-ef39-42ea-dc4c-3f4202cf35aa"
      },
      "execution_count": 9,
      "outputs": [
        {
          "output_type": "execute_result",
          "data": {
            "text/plain": [
              "518"
            ]
          },
          "metadata": {},
          "execution_count": 9
        }
      ]
    },
    {
      "cell_type": "code",
      "source": [
        "for item in data:\n",
        "  text = item['data']['token']\n",
        "\n",
        "  labels = item['annotations'][0]['result']\n",
        "  for label in labels:\n",
        "    label_text = label['value']['text']\n",
        "    label_start = label['value']['start']\n",
        "    label_end = label['value']['end']\n",
        "    label_name = label['value']['labels'][0]"
      ],
      "metadata": {
        "id": "j7ubYRiJPct6"
      },
      "execution_count": 10,
      "outputs": []
    },
    {
      "cell_type": "code",
      "source": [
        "nlp = spacy.blank('pl')\n",
        "docs = []\n",
        "\n",
        "for item in data:\n",
        "  text = item['data']['token']\n",
        "  doc = nlp.make_doc(text)\n",
        "\n",
        "  ents = []\n",
        "  labels = item['annotations'][0]['result']\n",
        "  for label in labels:\n",
        "    label_text = label['value']['text']\n",
        "    label_start = label['value']['start']\n",
        "    label_end = label['value']['end']\n",
        "    label_name = label['value']['labels'][0]\n",
        "    span = doc.char_span(label_start, label_end, label=label_name, alignment_mode=\"contract\")\n",
        "    if span is None:\n",
        "      print(\"Skipping entity\")\n",
        "      print(label_text, label_name)\n",
        "    else:\n",
        "      ents.append(span)\n",
        "\n",
        "  doc.ents = util.filter_spans(ents)\n",
        "  docs.append(doc)"
      ],
      "metadata": {
        "colab": {
          "base_uri": "https://localhost:8080/"
        },
        "id": "XS9mJQxnVI5f",
        "outputId": "68285a08-ab93-4b7f-cbaf-02e82c93a30d"
      },
      "execution_count": 11,
      "outputs": [
        {
          "output_type": "stream",
          "name": "stderr",
          "text": [
            "/usr/local/lib/python3.10/dist-packages/transformers/utils/generic.py:441: FutureWarning: `torch.utils._pytree._register_pytree_node` is deprecated. Please use `torch.utils._pytree.register_pytree_node` instead.\n",
            "  _torch_pytree._register_pytree_node(\n",
            "/usr/local/lib/python3.10/dist-packages/transformers/utils/generic.py:309: FutureWarning: `torch.utils._pytree._register_pytree_node` is deprecated. Please use `torch.utils._pytree.register_pytree_node` instead.\n",
            "  _torch_pytree._register_pytree_node(\n"
          ]
        },
        {
          "output_type": "stream",
          "name": "stdout",
          "text": [
            "Skipping entity\n",
            "aksjologi Definiendum\n"
          ]
        }
      ]
    },
    {
      "cell_type": "code",
      "source": [
        "from spacy import displacy\n",
        "displacy.render(docs[-1], style=\"ent\", jupyter=True)"
      ],
      "metadata": {
        "colab": {
          "base_uri": "https://localhost:8080/",
          "height": 177
        },
        "id": "-p3_Wr2iVal6",
        "outputId": "87717f64-de1f-4c15-fdae-8d5e84c79a6c"
      },
      "execution_count": 12,
      "outputs": [
        {
          "output_type": "display_data",
          "data": {
            "text/plain": [
              "<IPython.core.display.HTML object>"
            ],
            "text/html": [
              "<span class=\"tex2jax_ignore\"><div class=\"entities\" style=\"line-height: 2.5; direction: ltr\">W. Tatarkiewicz<br>\n",
              "<mark class=\"entity\" style=\"background: #ddd; padding: 0.45em 0.6em; margin: 0 0.25em; line-height: 1; border-radius: 0.35em;\">\n",
              "    twierdzenia mające tylko sens formalny, logicznie prawdziwe\n",
              "    <span style=\"font-size: 0.8em; font-weight: bold; line-height: 1; border-radius: 0.35em; vertical-align: middle; margin-left: 0.5rem\">Definiens</span>\n",
              "</mark>\n",
              " (\n",
              "<mark class=\"entity\" style=\"background: #ddd; padding: 0.45em 0.6em; margin: 0 0.25em; line-height: 1; border-radius: 0.35em;\">\n",
              "    czyli\n",
              "    <span style=\"font-size: 0.8em; font-weight: bold; line-height: 1; border-radius: 0.35em; vertical-align: middle; margin-left: 0.5rem\">Łącznik</span>\n",
              "</mark>\n",
              " \n",
              "<mark class=\"entity\" style=\"background: #ddd; padding: 0.45em 0.6em; margin: 0 0.25em; line-height: 1; border-radius: 0.35em;\">\n",
              "    analityczne\n",
              "    <span style=\"font-size: 0.8em; font-weight: bold; line-height: 1; border-radius: 0.35em; vertical-align: middle; margin-left: 0.5rem\">Definiendum</span>\n",
              "</mark>\n",
              ") lub<br>\n",
              "<mark class=\"entity\" style=\"background: #ddd; padding: 0.45em 0.6em; margin: 0 0.25em; line-height: 1; border-radius: 0.35em;\">\n",
              "    logicznie fałszywe\n",
              "    <span style=\"font-size: 0.8em; font-weight: bold; line-height: 1; border-radius: 0.35em; vertical-align: middle; margin-left: 0.5rem\">Definiens</span>\n",
              "</mark>\n",
              " (\n",
              "<mark class=\"entity\" style=\"background: #ddd; padding: 0.45em 0.6em; margin: 0 0.25em; line-height: 1; border-radius: 0.35em;\">\n",
              "    czyli\n",
              "    <span style=\"font-size: 0.8em; font-weight: bold; line-height: 1; border-radius: 0.35em; vertical-align: middle; margin-left: 0.5rem\">Łącznik</span>\n",
              "</mark>\n",
              " \n",
              "<mark class=\"entity\" style=\"background: #ddd; padding: 0.45em 0.6em; margin: 0 0.25em; line-height: 1; border-radius: 0.35em;\">\n",
              "    sprzeczne\n",
              "    <span style=\"font-size: 0.8em; font-weight: bold; line-height: 1; border-radius: 0.35em; vertical-align: middle; margin-left: 0.5rem\">Definiendum</span>\n",
              "</mark>\n",
              ") [III, 389]</div></span>"
            ]
          },
          "metadata": {}
        }
      ]
    },
    {
      "cell_type": "code",
      "source": [
        "def convert_data(DATA, output=\"./train.spacy\"):\n",
        "  nlp = spacy.blank('pl')\n",
        "  db = DocBin()\n",
        "\n",
        "  for item in DATA:\n",
        "    text = item['data']['token']\n",
        "    doc = nlp.make_doc(text)\n",
        "\n",
        "    ents = []\n",
        "    labels = item['annotations'][0]['result']\n",
        "    for label in labels:\n",
        "      label_text = label['value']['text']\n",
        "      label_start = label['value']['start']\n",
        "      label_end = label['value']['end']\n",
        "      label_name = label['value']['labels'][0]\n",
        "      span = doc.char_span(label_start, label_end, label=label_name, alignment_mode=\"contract\")\n",
        "      if span is None:\n",
        "        print(\"Skipping entity\")\n",
        "        print(label_text, label_name)\n",
        "      else:\n",
        "        ents.append(span)\n",
        "    doc.ents = util.filter_spans(ents)\n",
        "    db.add(doc)\n",
        "  db.to_disk(output)"
      ],
      "metadata": {
        "id": "ZYgkwqDeXL6d"
      },
      "execution_count": 13,
      "outputs": []
    },
    {
      "cell_type": "code",
      "source": [
        "def train_test_split(DATA, test):\n",
        "    train_end = int(len(DATA) * (100-test)*0.01)\n",
        "    print(train_end)\n",
        "    test_start = int(len(DATA) * (100-test))+1\n",
        "    return DATA[0:train_end], DATA[train_end+1:len(DATA)]"
      ],
      "metadata": {
        "id": "jOSexV28YAqz"
      },
      "execution_count": 14,
      "outputs": []
    },
    {
      "cell_type": "code",
      "source": [
        "train_data, test_data = train_test_split(data, test=30)\n",
        "test_data, dev_data = train_test_split(test_data, test=50)"
      ],
      "metadata": {
        "colab": {
          "base_uri": "https://localhost:8080/"
        },
        "id": "tsjnwPZMYFAY",
        "outputId": "f1d5e553-d11e-4ded-8c2b-f5d8f5167459"
      },
      "execution_count": 15,
      "outputs": [
        {
          "output_type": "stream",
          "name": "stdout",
          "text": [
            "362\n",
            "77\n"
          ]
        }
      ]
    },
    {
      "cell_type": "code",
      "source": [
        "len(dev_data)"
      ],
      "metadata": {
        "colab": {
          "base_uri": "https://localhost:8080/"
        },
        "id": "EoEjGf6mYIP0",
        "outputId": "3755bdcb-346c-4570-c806-c5c877d4ac8e"
      },
      "execution_count": 16,
      "outputs": [
        {
          "output_type": "execute_result",
          "data": {
            "text/plain": [
              "77"
            ]
          },
          "metadata": {},
          "execution_count": 16
        }
      ]
    },
    {
      "cell_type": "code",
      "source": [
        "convert_data(train_data, \"./train.spacy\")\n",
        "convert_data(test_data, \"./test.spacy\")\n",
        "convert_data(dev_data, \"./dev.spacy\")"
      ],
      "metadata": {
        "colab": {
          "base_uri": "https://localhost:8080/"
        },
        "id": "3vLLkItTYNBX",
        "outputId": "0a91fe43-45ef-415a-d26c-70c9ae80e509"
      },
      "execution_count": 17,
      "outputs": [
        {
          "output_type": "stream",
          "name": "stdout",
          "text": [
            "Skipping entity\n",
            "aksjologi Definiendum\n"
          ]
        }
      ]
    },
    {
      "cell_type": "code",
      "source": [
        "import locale\n",
        "print(locale.getpreferredencoding())\n",
        "import locale\n",
        "def getpreferredencoding(do_setlocale = True):\n",
        "    return \"UTF-8\"\n",
        "locale.getpreferredencoding = getpreferredencoding"
      ],
      "metadata": {
        "colab": {
          "base_uri": "https://localhost:8080/"
        },
        "id": "XnAUM8G2YUqs",
        "outputId": "97ef9001-b4d1-470a-cfb0-65c3bce0385f"
      },
      "execution_count": 18,
      "outputs": [
        {
          "output_type": "stream",
          "name": "stdout",
          "text": [
            "UTF-8\n"
          ]
        }
      ]
    },
    {
      "cell_type": "code",
      "source": [
        "!python -m spacy init config --lang pl --pipeline ner config.cfg --force --optimize efficiency"
      ],
      "metadata": {
        "colab": {
          "base_uri": "https://localhost:8080/"
        },
        "id": "_MPvG5KqYjcb",
        "outputId": "f3db6b40-0701-4df6-9e7c-90ed69756682"
      },
      "execution_count": 19,
      "outputs": [
        {
          "output_type": "stream",
          "name": "stdout",
          "text": [
            "/usr/local/lib/python3.10/dist-packages/transformers/utils/generic.py:441: FutureWarning: `torch.utils._pytree._register_pytree_node` is deprecated. Please use `torch.utils._pytree.register_pytree_node` instead.\n",
            "  _torch_pytree._register_pytree_node(\n",
            "/usr/local/lib/python3.10/dist-packages/transformers/utils/generic.py:309: FutureWarning: `torch.utils._pytree._register_pytree_node` is deprecated. Please use `torch.utils._pytree.register_pytree_node` instead.\n",
            "  _torch_pytree._register_pytree_node(\n",
            "\u001b[38;5;4mℹ Generated config template specific for your use case\u001b[0m\n",
            "- Language: pl\n",
            "- Pipeline: ner\n",
            "- Optimize for: efficiency\n",
            "- Hardware: CPU\n",
            "- Transformer: None\n",
            "\u001b[38;5;2m✔ Auto-filled config with all values\u001b[0m\n",
            "\u001b[38;5;2m✔ Saved config\u001b[0m\n",
            "config.cfg\n",
            "You can now add your data and train your pipeline:\n",
            "python -m spacy train config.cfg --paths.train ./train.spacy --paths.dev ./dev.spacy\n"
          ]
        }
      ]
    },
    {
      "cell_type": "code",
      "source": [
        "!python -m spacy train config.cfg --paths.train ./train.spacy  --paths.dev ./dev.spacy --output ner_model"
      ],
      "metadata": {
        "colab": {
          "base_uri": "https://localhost:8080/"
        },
        "id": "i9fLeg6wYmdC",
        "outputId": "10cb7d90-19b6-4064-8d8c-367b242189b1"
      },
      "execution_count": 20,
      "outputs": [
        {
          "output_type": "stream",
          "name": "stdout",
          "text": [
            "\u001b[38;5;2m✔ Created output directory: ner_model\u001b[0m\n",
            "\u001b[38;5;4mℹ Saving to output directory: ner_model\u001b[0m\n",
            "\u001b[38;5;4mℹ Using CPU\u001b[0m\n",
            "\u001b[1m\n",
            "=========================== Initializing pipeline ===========================\u001b[0m\n",
            "/usr/local/lib/python3.10/dist-packages/transformers/utils/generic.py:441: FutureWarning: `torch.utils._pytree._register_pytree_node` is deprecated. Please use `torch.utils._pytree.register_pytree_node` instead.\n",
            "  _torch_pytree._register_pytree_node(\n",
            "/usr/local/lib/python3.10/dist-packages/transformers/utils/generic.py:309: FutureWarning: `torch.utils._pytree._register_pytree_node` is deprecated. Please use `torch.utils._pytree.register_pytree_node` instead.\n",
            "  _torch_pytree._register_pytree_node(\n",
            "\u001b[38;5;2m✔ Initialized pipeline\u001b[0m\n",
            "\u001b[1m\n",
            "============================= Training pipeline =============================\u001b[0m\n",
            "\u001b[38;5;4mℹ Pipeline: ['tok2vec', 'ner']\u001b[0m\n",
            "\u001b[38;5;4mℹ Initial learn rate: 0.001\u001b[0m\n",
            "E    #       LOSS TOK2VEC  LOSS NER  ENTS_F  ENTS_P  ENTS_R  SCORE \n",
            "---  ------  ------------  --------  ------  ------  ------  ------\n",
            "  0       0          0.00     42.29    0.00    0.00    0.00    0.00\n",
            "  1     200        541.17   3158.57   16.10   27.19   11.44    0.16\n",
            "  2     400        585.51   2449.78   28.77   38.75   22.88    0.29\n",
            "  4     600        707.34   2409.93   23.47   34.78   17.71    0.23\n",
            "  6     800       1789.84   2451.35   28.50   42.65   21.40    0.29\n",
            "  9    1000       1540.21   1844.68   32.11   42.42   25.83    0.32\n",
            " 12    1200       1446.17   1773.00   28.77   38.75   22.88    0.29\n",
            " 16    1400       1541.56   1303.72   28.02   40.56   21.40    0.28\n",
            " 21    1600       1369.53   1088.28   29.10   38.89   23.25    0.29\n",
            " 28    1800        792.44    912.03   31.85   43.59   25.09    0.32\n",
            " 36    2000        966.81    927.22   32.20   47.48   24.35    0.32\n",
            " 45    2200       1174.77   1096.32   31.73   45.52   24.35    0.32\n",
            " 57    2400       1379.28   1133.50   32.17   43.67   25.46    0.32\n",
            " 69    2600        656.97    992.38   34.37   43.50   28.41    0.34\n",
            " 81    2800        723.21    983.35   31.80   42.33   25.46    0.32\n",
            " 92    3000        614.97    958.93   31.87   42.59   25.46    0.32\n",
            "104    3200        588.71    901.44   31.92   43.87   25.09    0.32\n",
            "116    3400        740.82    918.94   30.23   40.88   23.99    0.30\n",
            "128    3600       1031.55    918.00   32.06   45.58   24.72    0.32\n",
            "139    3800        610.37    840.37   31.11   47.01   23.25    0.31\n",
            "151    4000        592.26    858.43   31.85   43.59   25.09    0.32\n",
            "163    4200       1932.92    891.46   32.56   44.03   25.83    0.33\n",
            "\u001b[38;5;2m✔ Saved pipeline to output directory\u001b[0m\n",
            "ner_model/model-last\n"
          ]
        }
      ]
    },
    {
      "cell_type": "code",
      "source": [
        "!python -m spacy evaluate ner_model/model-best/ --output metrics.json ./test.spacy"
      ],
      "metadata": {
        "id": "InB3KQIEdPMX",
        "colab": {
          "base_uri": "https://localhost:8080/"
        },
        "outputId": "3fc27c38-2d10-45bc-a802-7ba558f88a22"
      },
      "execution_count": 22,
      "outputs": [
        {
          "output_type": "stream",
          "name": "stdout",
          "text": [
            "\u001b[38;5;4mℹ Using CPU\u001b[0m\n",
            "/usr/local/lib/python3.10/dist-packages/transformers/utils/generic.py:441: FutureWarning: `torch.utils._pytree._register_pytree_node` is deprecated. Please use `torch.utils._pytree.register_pytree_node` instead.\n",
            "  _torch_pytree._register_pytree_node(\n",
            "/usr/local/lib/python3.10/dist-packages/transformers/utils/generic.py:309: FutureWarning: `torch.utils._pytree._register_pytree_node` is deprecated. Please use `torch.utils._pytree.register_pytree_node` instead.\n",
            "  _torch_pytree._register_pytree_node(\n",
            "\u001b[1m\n",
            "================================== Results ==================================\u001b[0m\n",
            "\n",
            "TOK     100.00\n",
            "NER P   51.29 \n",
            "NER R   44.40 \n",
            "NER F   47.60 \n",
            "SPEED   12791 \n",
            "\n",
            "\u001b[1m\n",
            "=============================== NER (per type) ===============================\u001b[0m\n",
            "\n",
            "                  P       R       F\n",
            "Definiendum   39.06   27.47   32.26\n",
            "Łącznik       82.80   88.51   85.56\n",
            "Definiens     22.67   18.89   20.61\n",
            "\n",
            "\u001b[38;5;2m✔ Saved results to metrics.json\u001b[0m\n"
          ]
        }
      ]
    },
    {
      "cell_type": "code",
      "source": [],
      "metadata": {
        "id": "j2hrOiNKPjRv"
      },
      "execution_count": null,
      "outputs": []
    }
  ]
}