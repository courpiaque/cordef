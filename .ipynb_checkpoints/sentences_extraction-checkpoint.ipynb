{
 "cells": [
  {
   "cell_type": "code",
   "execution_count": 1,
   "id": "d75a7797-3dc8-4ede-8166-f3e7895b581f",
   "metadata": {},
   "outputs": [],
   "source": [
    "# załadowanie bibliotek\n",
    "import csv\n",
    "import re"
   ]
  },
  {
   "cell_type": "code",
   "execution_count": 2,
   "id": "6ec7d915-d491-42b8-b011-72174761e58a",
   "metadata": {},
   "outputs": [],
   "source": [
    "# wzór wychwytujący liczby porządkowe (1., 2., 3.) etc.\n",
    "pattern = r'\\d+\\.\\s*'\n",
    "\n",
    "with open('Tatarkiewicz_definicje.txt', 'r') as file:\n",
    "\n",
    "    # odczytanie pliku\n",
    "    text = file.read()\n",
    "\n",
    "    # podział na sentencje oddzielone liczbami porządkowymi\n",
    "    sentences = re.split(pattern, text)\n",
    "\n",
    "    # usuwanie pustych znaków\n",
    "    sentences = [sentence.strip() for sentence in sentences if sentence.strip()]\n",
    "\n",
    "# usuwanie liczb porządkowych z sentencji\n",
    "for sentence in sentences:\n",
    "    sentence = re.sub(pattern, '', text)"
   ]
  },
  {
   "cell_type": "code",
   "execution_count": 3,
   "id": "0f6bafe8-9a58-4279-becb-f30537f3baa6",
   "metadata": {},
   "outputs": [],
   "source": [
    "# zdefiniowanie nazwy pliku wyjściowego\n",
    "file_path = \"definicje.csv\"\n",
    "\n",
    "# zapisanie pliku w formacie csv\n",
    "with open(file_path, 'w', newline='') as file:\n",
    "    writer = csv.writer(file)\n",
    "    for sentence in sentences:\n",
    "        writer.writerow([sentence])"
   ]
  }
 ],
 "metadata": {
  "kernelspec": {
   "display_name": "Python 3 (ipykernel)",
   "language": "python",
   "name": "python3"
  },
  "language_info": {
   "codemirror_mode": {
    "name": "ipython",
    "version": 3
   },
   "file_extension": ".py",
   "mimetype": "text/x-python",
   "name": "python",
   "nbconvert_exporter": "python",
   "pygments_lexer": "ipython3",
   "version": "3.12.4"
  }
 },
 "nbformat": 4,
 "nbformat_minor": 5
}
